{
 "cells": [
  {
   "cell_type": "code",
   "execution_count": 1,
   "metadata": {
    "collapsed": false
   },
   "outputs": [
    {
     "name": "stderr",
     "output_type": "stream",
     "text": [
      "Using TensorFlow backend.\n"
     ]
    }
   ],
   "source": [
    "from keras.datasets import mnist\n",
    "from keras.layers import Input,Conv2D,Activation,Dense,Lambda,Flatten,Embedding,PReLU,BatchNormalization\n",
    "from keras.models import Model\n",
    "import keras.backend as K\n",
    "from keras.utils import to_categorical\n",
    "import numpy as np\n",
    "from keras.callbacks import EarlyStopping\n",
    "from keras.engine.topology import Layer"
   ]
  },
  {
   "cell_type": "code",
   "execution_count": 2,
   "metadata": {
    "collapsed": false
   },
   "outputs": [
    {
     "name": "stdout",
     "output_type": "stream",
     "text": [
      "_________________________________________________________________\n",
      "Layer (type)                 Output Shape              Param #   \n",
      "=================================================================\n",
      "input_1 (InputLayer)         (None, 28, 28, 1)         0         \n",
      "_________________________________________________________________\n",
      "conv2d_1 (Conv2D)            (None, 26, 26, 32)        320       \n",
      "_________________________________________________________________\n",
      "batch_normalization_1 (Batch (None, 26, 26, 32)        128       \n",
      "_________________________________________________________________\n",
      "p_re_lu_1 (PReLU)            (None, 26, 26, 32)        21632     \n",
      "_________________________________________________________________\n",
      "conv2d_2 (Conv2D)            (None, 24, 24, 32)        9248      \n",
      "_________________________________________________________________\n",
      "batch_normalization_2 (Batch (None, 24, 24, 32)        128       \n",
      "_________________________________________________________________\n",
      "p_re_lu_2 (PReLU)            (None, 24, 24, 32)        18432     \n",
      "_________________________________________________________________\n",
      "conv2d_3 (Conv2D)            (None, 20, 20, 64)        51264     \n",
      "_________________________________________________________________\n",
      "batch_normalization_3 (Batch (None, 20, 20, 64)        256       \n",
      "_________________________________________________________________\n",
      "p_re_lu_3 (PReLU)            (None, 20, 20, 64)        25600     \n",
      "_________________________________________________________________\n",
      "conv2d_4 (Conv2D)            (None, 16, 16, 64)        102464    \n",
      "_________________________________________________________________\n",
      "batch_normalization_4 (Batch (None, 16, 16, 64)        256       \n",
      "_________________________________________________________________\n",
      "p_re_lu_4 (PReLU)            (None, 16, 16, 64)        16384     \n",
      "_________________________________________________________________\n",
      "conv2d_5 (Conv2D)            (None, 10, 10, 128)       401536    \n",
      "_________________________________________________________________\n",
      "batch_normalization_5 (Batch (None, 10, 10, 128)       512       \n",
      "_________________________________________________________________\n",
      "p_re_lu_5 (PReLU)            (None, 10, 10, 128)       12800     \n",
      "_________________________________________________________________\n",
      "conv2d_6 (Conv2D)            (None, 4, 4, 128)         802944    \n",
      "_________________________________________________________________\n",
      "batch_normalization_6 (Batch (None, 4, 4, 128)         512       \n",
      "_________________________________________________________________\n",
      "p_re_lu_6 (PReLU)            (None, 4, 4, 128)         2048      \n",
      "_________________________________________________________________\n",
      "flatten_1 (Flatten)          (None, 2048)              0         \n",
      "_________________________________________________________________\n",
      "dense_1 (Dense)              (None, 2)                 4098      \n",
      "_________________________________________________________________\n",
      "out1 (PReLU)                 (None, 2)                 2         \n",
      "_________________________________________________________________\n",
      "dense_2 (Dense)              (None, 10)                30        \n",
      "=================================================================\n",
      "Total params: 1,470,594\n",
      "Trainable params: 1,469,698\n",
      "Non-trainable params: 896\n",
      "_________________________________________________________________\n"
     ]
    }
   ],
   "source": [
    "inputs=Input((28,28,1))\n",
    "x=Conv2D(32,(3,3))(inputs)\n",
    "x=BatchNormalization()(x)\n",
    "x=PReLU()(x)\n",
    "x=Conv2D(32,(3,3))(x)\n",
    "x=BatchNormalization()(x)\n",
    "x=PReLU()(x)\n",
    "x=Conv2D(64,(5,5))(x)\n",
    "x=BatchNormalization()(x)\n",
    "x=PReLU()(x)\n",
    "x=Conv2D(64,(5,5))(x)\n",
    "x=BatchNormalization()(x)\n",
    "x=PReLU()(x)\n",
    "x=Conv2D(128,(7,7))(x)\n",
    "x=BatchNormalization()(x)\n",
    "x=PReLU()(x)\n",
    "x=Conv2D(128,(7,7))(x)\n",
    "x=BatchNormalization()(x)\n",
    "x=PReLU()(x)\n",
    "x=Flatten()(x)\n",
    "x=Dense(2)(x)\n",
    "out1=PReLU(name=\"out1\")(x)\n",
    "out2=Dense(10,activation=\"softmax\")(out1)\n",
    "\n",
    "model=Model(inputs,out2)\n",
    "model.summary()"
   ]
  },
  {
   "cell_type": "code",
   "execution_count": 3,
   "metadata": {
    "collapsed": false
   },
   "outputs": [
    {
     "name": "stdout",
     "output_type": "stream",
     "text": [
      "__________________________________________________________________________________________________\n",
      "Layer (type)                    Output Shape         Param #     Connected to                     \n",
      "==================================================================================================\n",
      "input_1 (InputLayer)            (None, 28, 28, 1)    0                                            \n",
      "__________________________________________________________________________________________________\n",
      "conv2d_1 (Conv2D)               (None, 26, 26, 32)   320         input_1[0][0]                    \n",
      "__________________________________________________________________________________________________\n",
      "batch_normalization_1 (BatchNor (None, 26, 26, 32)   128         conv2d_1[0][0]                   \n",
      "__________________________________________________________________________________________________\n",
      "p_re_lu_1 (PReLU)               (None, 26, 26, 32)   21632       batch_normalization_1[0][0]      \n",
      "__________________________________________________________________________________________________\n",
      "conv2d_2 (Conv2D)               (None, 24, 24, 32)   9248        p_re_lu_1[0][0]                  \n",
      "__________________________________________________________________________________________________\n",
      "batch_normalization_2 (BatchNor (None, 24, 24, 32)   128         conv2d_2[0][0]                   \n",
      "__________________________________________________________________________________________________\n",
      "p_re_lu_2 (PReLU)               (None, 24, 24, 32)   18432       batch_normalization_2[0][0]      \n",
      "__________________________________________________________________________________________________\n",
      "conv2d_3 (Conv2D)               (None, 20, 20, 64)   51264       p_re_lu_2[0][0]                  \n",
      "__________________________________________________________________________________________________\n",
      "batch_normalization_3 (BatchNor (None, 20, 20, 64)   256         conv2d_3[0][0]                   \n",
      "__________________________________________________________________________________________________\n",
      "p_re_lu_3 (PReLU)               (None, 20, 20, 64)   25600       batch_normalization_3[0][0]      \n",
      "__________________________________________________________________________________________________\n",
      "conv2d_4 (Conv2D)               (None, 16, 16, 64)   102464      p_re_lu_3[0][0]                  \n",
      "__________________________________________________________________________________________________\n",
      "batch_normalization_4 (BatchNor (None, 16, 16, 64)   256         conv2d_4[0][0]                   \n",
      "__________________________________________________________________________________________________\n",
      "p_re_lu_4 (PReLU)               (None, 16, 16, 64)   16384       batch_normalization_4[0][0]      \n",
      "__________________________________________________________________________________________________\n",
      "conv2d_5 (Conv2D)               (None, 10, 10, 128)  401536      p_re_lu_4[0][0]                  \n",
      "__________________________________________________________________________________________________\n",
      "batch_normalization_5 (BatchNor (None, 10, 10, 128)  512         conv2d_5[0][0]                   \n",
      "__________________________________________________________________________________________________\n",
      "p_re_lu_5 (PReLU)               (None, 10, 10, 128)  12800       batch_normalization_5[0][0]      \n",
      "__________________________________________________________________________________________________\n",
      "conv2d_6 (Conv2D)               (None, 4, 4, 128)    802944      p_re_lu_5[0][0]                  \n",
      "__________________________________________________________________________________________________\n",
      "batch_normalization_6 (BatchNor (None, 4, 4, 128)    512         conv2d_6[0][0]                   \n",
      "__________________________________________________________________________________________________\n",
      "p_re_lu_6 (PReLU)               (None, 4, 4, 128)    2048        batch_normalization_6[0][0]      \n",
      "__________________________________________________________________________________________________\n",
      "flatten_1 (Flatten)             (None, 2048)         0           p_re_lu_6[0][0]                  \n",
      "__________________________________________________________________________________________________\n",
      "dense_1 (Dense)                 (None, 2)            4098        flatten_1[0][0]                  \n",
      "__________________________________________________________________________________________________\n",
      "out1 (PReLU)                    (None, 2)            2           dense_1[0][0]                    \n",
      "__________________________________________________________________________________________________\n",
      "input_2 (InputLayer)            (None, 10)           0                                            \n",
      "__________________________________________________________________________________________________\n",
      "dense_2 (Dense)                 (None, 10)           30          out1[0][0]                       \n",
      "__________________________________________________________________________________________________\n",
      "center_loss_layer_1 (CenterLoss (None, 1)            20          out1[0][0]                       \n",
      "                                                                 input_2[0][0]                    \n",
      "==================================================================================================\n",
      "Total params: 1,470,614\n",
      "Trainable params: 1,469,698\n",
      "Non-trainable params: 916\n",
      "__________________________________________________________________________________________________\n"
     ]
    }
   ],
   "source": [
    "-\n",
    "model_center_loss.summary()        "
   ]
  },
  {
   "cell_type": "code",
   "execution_count": 4,
   "metadata": {
    "collapsed": false
   },
   "outputs": [
    {
     "name": "stdout",
     "output_type": "stream",
     "text": [
      "(30000, 28, 28, 1)\n",
      "(30000,)\n",
      "(30000, 10)\n"
     ]
    }
   ],
   "source": [
    "path=\"mnist.npz\"\n",
    "f = np.load(path)\n",
    "x_train, y_train = f['x_train'][:30000], f['y_train'][:30000]\n",
    "x_test, y_test = f['x_test'], f['y_test']\n",
    "f.close()\n",
    "\n",
    "x_train=x_train.astype(\"float32\")\n",
    "x_test=x_test.astype(\"float32\")\n",
    "x_train/=255.\n",
    "x_test/=255.\n",
    "x_train=np.expand_dims(x_train,axis=-1)\n",
    "x_test=np.expand_dims(x_test,axis=-1)\n",
    "\n",
    "y_train_one_hot=to_categorical(y_train)\n",
    "y_test_one_hot=to_categorical(y_test)\n",
    "\n",
    "print(x_train.shape)\n",
    "print(y_train.shape)\n",
    "print(y_train_one_hot.shape)"
   ]
  },
  {
   "cell_type": "code",
   "execution_count": 5,
   "metadata": {
    "collapsed": false
   },
   "outputs": [
    {
     "name": "stdout",
     "output_type": "stream",
     "text": [
      "Train on 30000 samples, validate on 10000 samples\n",
      "Epoch 1/100\n",
      "30000/30000 [==============================] - 7s 235us/step - loss: 2.3103 - dense_2_loss: 2.2998 - center_loss_layer_1_loss: 0.0210 - dense_2_acc: 0.1297 - center_loss_layer_1_acc: 0.9905 - val_loss: 2.2985 - val_dense_2_loss: 2.2945 - val_center_loss_layer_1_loss: 0.0079 - val_dense_2_acc: 0.1481 - val_center_loss_layer_1_acc: 0.9973\n",
      "Epoch 2/100\n",
      "30000/30000 [==============================] - 5s 160us/step - loss: 2.2850 - dense_2_loss: 2.2643 - center_loss_layer_1_loss: 0.0413 - dense_2_acc: 0.1505 - center_loss_layer_1_acc: 0.9771 - val_loss: 2.2612 - val_dense_2_loss: 2.2033 - val_center_loss_layer_1_loss: 0.1158 - val_dense_2_acc: 0.1647 - val_center_loss_layer_1_acc: 0.9331\n",
      "Epoch 3/100\n",
      "30000/30000 [==============================] - 5s 159us/step - loss: 2.1977 - dense_2_loss: 2.1397 - center_loss_layer_1_loss: 0.1160 - dense_2_acc: 0.1865 - center_loss_layer_1_acc: 0.9464 - val_loss: 2.1450 - val_dense_2_loss: 2.0420 - val_center_loss_layer_1_loss: 0.2059 - val_dense_2_acc: 0.2420 - val_center_loss_layer_1_acc: 0.8951\n",
      "Epoch 4/100\n",
      "30000/30000 [==============================] - 5s 161us/step - loss: 2.0788 - dense_2_loss: 1.9799 - center_loss_layer_1_loss: 0.1977 - dense_2_acc: 0.3046 - center_loss_layer_1_acc: 0.9093 - val_loss: 2.0246 - val_dense_2_loss: 1.8946 - val_center_loss_layer_1_loss: 0.2601 - val_dense_2_acc: 0.3069 - val_center_loss_layer_1_acc: 0.8686\n",
      "Epoch 5/100\n",
      "30000/30000 [==============================] - 5s 160us/step - loss: 1.9721 - dense_2_loss: 1.8305 - center_loss_layer_1_loss: 0.2832 - dense_2_acc: 0.3081 - center_loss_layer_1_acc: 0.8632 - val_loss: 1.9438 - val_dense_2_loss: 1.7449 - val_center_loss_layer_1_loss: 0.3977 - val_dense_2_acc: 0.3089 - val_center_loss_layer_1_acc: 0.7672\n",
      "Epoch 6/100\n",
      "30000/30000 [==============================] - 5s 162us/step - loss: 1.8622 - dense_2_loss: 1.7120 - center_loss_layer_1_loss: 0.3004 - dense_2_acc: 0.3091 - center_loss_layer_1_acc: 0.8502 - val_loss: 1.8491 - val_dense_2_loss: 1.6747 - val_center_loss_layer_1_loss: 0.3487 - val_dense_2_acc: 0.3107 - val_center_loss_layer_1_acc: 0.8204\n",
      "Epoch 7/100\n",
      "30000/30000 [==============================] - 5s 161us/step - loss: 1.7981 - dense_2_loss: 1.6373 - center_loss_layer_1_loss: 0.3215 - dense_2_acc: 0.3110 - center_loss_layer_1_acc: 0.8342 - val_loss: 1.7953 - val_dense_2_loss: 1.6185 - val_center_loss_layer_1_loss: 0.3536 - val_dense_2_acc: 0.3147 - val_center_loss_layer_1_acc: 0.8262\n",
      "Epoch 8/100\n",
      "30000/30000 [==============================] - 5s 163us/step - loss: 1.7498 - dense_2_loss: 1.5824 - center_loss_layer_1_loss: 0.3348 - dense_2_acc: 0.3140 - center_loss_layer_1_acc: 0.8305 - val_loss: 1.8063 - val_dense_2_loss: 1.5865 - val_center_loss_layer_1_loss: 0.4396 - val_dense_2_acc: 0.3151 - val_center_loss_layer_1_acc: 0.7668\n",
      "Epoch 9/100\n",
      "30000/30000 [==============================] - 5s 158us/step - loss: 1.6866 - dense_2_loss: 1.5380 - center_loss_layer_1_loss: 0.2971 - dense_2_acc: 0.3179 - center_loss_layer_1_acc: 0.8556 - val_loss: 1.7723 - val_dense_2_loss: 1.5495 - val_center_loss_layer_1_loss: 0.4456 - val_dense_2_acc: 0.3148 - val_center_loss_layer_1_acc: 0.7692\n",
      "Epoch 10/100\n",
      "30000/30000 [==============================] - 5s 158us/step - loss: 1.6760 - dense_2_loss: 1.5011 - center_loss_layer_1_loss: 0.3498 - dense_2_acc: 0.3228 - center_loss_layer_1_acc: 0.8206 - val_loss: 1.7106 - val_dense_2_loss: 1.5195 - val_center_loss_layer_1_loss: 0.3822 - val_dense_2_acc: 0.3214 - val_center_loss_layer_1_acc: 0.8152\n",
      "Epoch 11/100\n",
      "30000/30000 [==============================] - 5s 158us/step - loss: 1.6292 - dense_2_loss: 1.4631 - center_loss_layer_1_loss: 0.3322 - dense_2_acc: 0.3275 - center_loss_layer_1_acc: 0.8302 - val_loss: 1.6595 - val_dense_2_loss: 1.4701 - val_center_loss_layer_1_loss: 0.3788 - val_dense_2_acc: 0.3404 - val_center_loss_layer_1_acc: 0.8318\n",
      "Epoch 12/100\n",
      "30000/30000 [==============================] - 5s 159us/step - loss: 1.5840 - dense_2_loss: 1.4259 - center_loss_layer_1_loss: 0.3161 - dense_2_acc: 0.3320 - center_loss_layer_1_acc: 0.8392 - val_loss: 1.7075 - val_dense_2_loss: 1.4461 - val_center_loss_layer_1_loss: 0.5228 - val_dense_2_acc: 0.3462 - val_center_loss_layer_1_acc: 0.7184\n",
      "Epoch 13/100\n",
      "30000/30000 [==============================] - 5s 160us/step - loss: 1.5797 - dense_2_loss: 1.3920 - center_loss_layer_1_loss: 0.3755 - dense_2_acc: 0.3414 - center_loss_layer_1_acc: 0.7911 - val_loss: 1.5880 - val_dense_2_loss: 1.3982 - val_center_loss_layer_1_loss: 0.3796 - val_dense_2_acc: 0.3508 - val_center_loss_layer_1_acc: 0.8247\n",
      "Epoch 14/100\n",
      "30000/30000 [==============================] - 5s 158us/step - loss: 1.5300 - dense_2_loss: 1.3535 - center_loss_layer_1_loss: 0.3529 - dense_2_acc: 0.3539 - center_loss_layer_1_acc: 0.8108 - val_loss: 1.5897 - val_dense_2_loss: 1.3371 - val_center_loss_layer_1_loss: 0.5051 - val_dense_2_acc: 0.3870 - val_center_loss_layer_1_acc: 0.7439\n",
      "Epoch 15/100\n",
      "30000/30000 [==============================] - 5s 160us/step - loss: 1.5264 - dense_2_loss: 1.3054 - center_loss_layer_1_loss: 0.4420 - dense_2_acc: 0.3923 - center_loss_layer_1_acc: 0.7512 - val_loss: 1.5777 - val_dense_2_loss: 1.2867 - val_center_loss_layer_1_loss: 0.5821 - val_dense_2_acc: 0.4727 - val_center_loss_layer_1_acc: 0.7101\n",
      "Epoch 16/100\n",
      "30000/30000 [==============================] - 5s 160us/step - loss: 1.4582 - dense_2_loss: 1.2430 - center_loss_layer_1_loss: 0.4305 - dense_2_acc: 0.4737 - center_loss_layer_1_acc: 0.7792 - val_loss: 1.7742 - val_dense_2_loss: 1.2809 - val_center_loss_layer_1_loss: 0.9865 - val_dense_2_acc: 0.4258 - val_center_loss_layer_1_acc: 0.4355\n",
      "Epoch 17/100\n",
      "30000/30000 [==============================] - 5s 161us/step - loss: 1.4149 - dense_2_loss: 1.1867 - center_loss_layer_1_loss: 0.4563 - dense_2_acc: 0.5242 - center_loss_layer_1_acc: 0.7560 - val_loss: 1.4867 - val_dense_2_loss: 1.1847 - val_center_loss_layer_1_loss: 0.6040 - val_dense_2_acc: 0.5388 - val_center_loss_layer_1_acc: 0.7400\n",
      "Epoch 18/100\n",
      "30000/30000 [==============================] - 5s 161us/step - loss: 1.3585 - dense_2_loss: 1.1256 - center_loss_layer_1_loss: 0.4657 - dense_2_acc: 0.5607 - center_loss_layer_1_acc: 0.7531 - val_loss: 1.5809 - val_dense_2_loss: 1.1606 - val_center_loss_layer_1_loss: 0.8405 - val_dense_2_acc: 0.5362 - val_center_loss_layer_1_acc: 0.5219\n",
      "Epoch 19/100\n",
      "30000/30000 [==============================] - 5s 159us/step - loss: 1.2931 - dense_2_loss: 1.0709 - center_loss_layer_1_loss: 0.4442 - dense_2_acc: 0.5868 - center_loss_layer_1_acc: 0.7744 - val_loss: 1.4372 - val_dense_2_loss: 1.0947 - val_center_loss_layer_1_loss: 0.6849 - val_dense_2_acc: 0.6035 - val_center_loss_layer_1_acc: 0.6821\n",
      "Epoch 20/100\n",
      "30000/30000 [==============================] - 5s 160us/step - loss: 1.2550 - dense_2_loss: 1.0179 - center_loss_layer_1_loss: 0.4742 - dense_2_acc: 0.6009 - center_loss_layer_1_acc: 0.7508 - val_loss: 1.3797 - val_dense_2_loss: 1.0619 - val_center_loss_layer_1_loss: 0.6357 - val_dense_2_acc: 0.6143 - val_center_loss_layer_1_acc: 0.7502\n",
      "Epoch 21/100\n",
      "30000/30000 [==============================] - 5s 161us/step - loss: 1.2165 - dense_2_loss: 0.9749 - center_loss_layer_1_loss: 0.4830 - dense_2_acc: 0.6144 - center_loss_layer_1_acc: 0.7392 - val_loss: 1.4626 - val_dense_2_loss: 1.0503 - val_center_loss_layer_1_loss: 0.8247 - val_dense_2_acc: 0.6373 - val_center_loss_layer_1_acc: 0.6366\n",
      "Epoch 22/100\n",
      "30000/30000 [==============================] - 5s 160us/step - loss: 1.1692 - dense_2_loss: 0.9370 - center_loss_layer_1_loss: 0.4644 - dense_2_acc: 0.6222 - center_loss_layer_1_acc: 0.7550 - val_loss: 1.3056 - val_dense_2_loss: 0.9789 - val_center_loss_layer_1_loss: 0.6534 - val_dense_2_acc: 0.6233 - val_center_loss_layer_1_acc: 0.7214\n",
      "Epoch 23/100\n",
      "30000/30000 [==============================] - 5s 159us/step - loss: 1.1429 - dense_2_loss: 0.9042 - center_loss_layer_1_loss: 0.4776 - dense_2_acc: 0.6283 - center_loss_layer_1_acc: 0.7474 - val_loss: 1.2400 - val_dense_2_loss: 0.9329 - val_center_loss_layer_1_loss: 0.6142 - val_dense_2_acc: 0.6362 - val_center_loss_layer_1_acc: 0.7648\n",
      "Epoch 24/100\n",
      "30000/30000 [==============================] - 5s 158us/step - loss: 1.1267 - dense_2_loss: 0.8780 - center_loss_layer_1_loss: 0.4973 - dense_2_acc: 0.6381 - center_loss_layer_1_acc: 0.7256 - val_loss: 1.2182 - val_dense_2_loss: 0.9206 - val_center_loss_layer_1_loss: 0.5951 - val_dense_2_acc: 0.6343 - val_center_loss_layer_1_acc: 0.7966\n",
      "Epoch 25/100\n",
      "30000/30000 [==============================] - 5s 159us/step - loss: 1.0530 - dense_2_loss: 0.8449 - center_loss_layer_1_loss: 0.4162 - dense_2_acc: 0.6445 - center_loss_layer_1_acc: 0.7759 - val_loss: 1.4412 - val_dense_2_loss: 0.9341 - val_center_loss_layer_1_loss: 1.0142 - val_dense_2_acc: 0.6464 - val_center_loss_layer_1_acc: 0.5690\n",
      "Epoch 26/100\n",
      "30000/30000 [==============================] - 5s 158us/step - loss: 1.0386 - dense_2_loss: 0.8221 - center_loss_layer_1_loss: 0.4329 - dense_2_acc: 0.6503 - center_loss_layer_1_acc: 0.7683 - val_loss: 1.2627 - val_dense_2_loss: 0.8772 - val_center_loss_layer_1_loss: 0.7710 - val_dense_2_acc: 0.6540 - val_center_loss_layer_1_acc: 0.6899\n",
      "Epoch 27/100\n",
      "30000/30000 [==============================] - 5s 161us/step - loss: 1.0453 - dense_2_loss: 0.8094 - center_loss_layer_1_loss: 0.4718 - dense_2_acc: 0.6589 - center_loss_layer_1_acc: 0.7410 - val_loss: 1.1631 - val_dense_2_loss: 0.8486 - val_center_loss_layer_1_loss: 0.6290 - val_dense_2_acc: 0.6580 - val_center_loss_layer_1_acc: 0.7829\n",
      "Epoch 28/100\n",
      "30000/30000 [==============================] - 5s 159us/step - loss: 1.0374 - dense_2_loss: 0.7899 - center_loss_layer_1_loss: 0.4950 - dense_2_acc: 0.6648 - center_loss_layer_1_acc: 0.7436 - val_loss: 1.2297 - val_dense_2_loss: 0.8576 - val_center_loss_layer_1_loss: 0.7442 - val_dense_2_acc: 0.7013 - val_center_loss_layer_1_acc: 0.7328\n",
      "Epoch 29/100\n",
      "30000/30000 [==============================] - 5s 159us/step - loss: 1.0012 - dense_2_loss: 0.7680 - center_loss_layer_1_loss: 0.4665 - dense_2_acc: 0.6750 - center_loss_layer_1_acc: 0.7411 - val_loss: 1.1933 - val_dense_2_loss: 0.8237 - val_center_loss_layer_1_loss: 0.7392 - val_dense_2_acc: 0.6731 - val_center_loss_layer_1_acc: 0.7208\n",
      "Epoch 30/100\n",
      "30000/30000 [==============================] - 5s 161us/step - loss: 0.9678 - dense_2_loss: 0.7496 - center_loss_layer_1_loss: 0.4364 - dense_2_acc: 0.6819 - center_loss_layer_1_acc: 0.7539 - val_loss: 1.1954 - val_dense_2_loss: 0.7929 - val_center_loss_layer_1_loss: 0.8049 - val_dense_2_acc: 0.6944 - val_center_loss_layer_1_acc: 0.6639\n",
      "Epoch 31/100\n",
      "30000/30000 [==============================] - 5s 162us/step - loss: 0.9468 - dense_2_loss: 0.7273 - center_loss_layer_1_loss: 0.4391 - dense_2_acc: 0.6904 - center_loss_layer_1_acc: 0.7568 - val_loss: 1.2283 - val_dense_2_loss: 0.7963 - val_center_loss_layer_1_loss: 0.8640 - val_dense_2_acc: 0.7652 - val_center_loss_layer_1_acc: 0.6428\n",
      "Epoch 32/100\n",
      "30000/30000 [==============================] - 5s 160us/step - loss: 0.9622 - dense_2_loss: 0.7168 - center_loss_layer_1_loss: 0.4907 - dense_2_acc: 0.7042 - center_loss_layer_1_acc: 0.7215 - val_loss: 1.3220 - val_dense_2_loss: 0.7986 - val_center_loss_layer_1_loss: 1.0468 - val_dense_2_acc: 0.7870 - val_center_loss_layer_1_acc: 0.5676\n",
      "Epoch 33/100\n",
      "30000/30000 [==============================] - 5s 162us/step - loss: 0.9274 - dense_2_loss: 0.7026 - center_loss_layer_1_loss: 0.4494 - dense_2_acc: 0.7222 - center_loss_layer_1_acc: 0.7420 - val_loss: 1.3969 - val_dense_2_loss: 0.7867 - val_center_loss_layer_1_loss: 1.2203 - val_dense_2_acc: 0.6909 - val_center_loss_layer_1_acc: 0.5306\n",
      "Epoch 34/100\n",
      "30000/30000 [==============================] - 5s 160us/step - loss: 0.9185 - dense_2_loss: 0.6850 - center_loss_layer_1_loss: 0.4669 - dense_2_acc: 0.7319 - center_loss_layer_1_acc: 0.7321 - val_loss: 1.4856 - val_dense_2_loss: 0.7735 - val_center_loss_layer_1_loss: 1.4243 - val_dense_2_acc: 0.7274 - val_center_loss_layer_1_acc: 0.3508\n",
      "Epoch 35/100\n",
      "30000/30000 [==============================] - 5s 160us/step - loss: 0.9198 - dense_2_loss: 0.6745 - center_loss_layer_1_loss: 0.4906 - dense_2_acc: 0.7412 - center_loss_layer_1_acc: 0.7296 - val_loss: 1.1101 - val_dense_2_loss: 0.7238 - val_center_loss_layer_1_loss: 0.7728 - val_dense_2_acc: 0.7804 - val_center_loss_layer_1_acc: 0.7392\n",
      "Epoch 36/100\n",
      "30000/30000 [==============================] - 5s 161us/step - loss: 0.8475 - dense_2_loss: 0.6497 - center_loss_layer_1_loss: 0.3955 - dense_2_acc: 0.7646 - center_loss_layer_1_acc: 0.7881 - val_loss: 1.3998 - val_dense_2_loss: 0.7306 - val_center_loss_layer_1_loss: 1.3384 - val_dense_2_acc: 0.7320 - val_center_loss_layer_1_acc: 0.4898\n",
      "Epoch 37/100\n",
      "30000/30000 [==============================] - 5s 159us/step - loss: 0.8417 - dense_2_loss: 0.6396 - center_loss_layer_1_loss: 0.4043 - dense_2_acc: 0.7853 - center_loss_layer_1_acc: 0.7746 - val_loss: 1.4176 - val_dense_2_loss: 0.7365 - val_center_loss_layer_1_loss: 1.3623 - val_dense_2_acc: 0.8242 - val_center_loss_layer_1_acc: 0.4754\n",
      "Epoch 38/100\n",
      "30000/30000 [==============================] - 5s 160us/step - loss: 0.8967 - dense_2_loss: 0.6391 - center_loss_layer_1_loss: 0.5153 - dense_2_acc: 0.8038 - center_loss_layer_1_acc: 0.7255 - val_loss: 1.2299 - val_dense_2_loss: 0.6734 - val_center_loss_layer_1_loss: 1.1130 - val_dense_2_acc: 0.7439 - val_center_loss_layer_1_acc: 0.5778\n",
      "Epoch 39/100\n",
      "30000/30000 [==============================] - 5s 162us/step - loss: 0.8189 - dense_2_loss: 0.6136 - center_loss_layer_1_loss: 0.4105 - dense_2_acc: 0.8266 - center_loss_layer_1_acc: 0.7742 - val_loss: 1.1201 - val_dense_2_loss: 0.6816 - val_center_loss_layer_1_loss: 0.8770 - val_dense_2_acc: 0.7826 - val_center_loss_layer_1_acc: 0.7057\n",
      "Epoch 40/100\n",
      "30000/30000 [==============================] - 5s 164us/step - loss: 0.8302 - dense_2_loss: 0.6032 - center_loss_layer_1_loss: 0.4539 - dense_2_acc: 0.8450 - center_loss_layer_1_acc: 0.7389 - val_loss: 1.0335 - val_dense_2_loss: 0.6494 - val_center_loss_layer_1_loss: 0.7682 - val_dense_2_acc: 0.8312 - val_center_loss_layer_1_acc: 0.7545\n",
      "Epoch 41/100\n",
      "30000/30000 [==============================] - 5s 161us/step - loss: 0.8651 - dense_2_loss: 0.5934 - center_loss_layer_1_loss: 0.5434 - dense_2_acc: 0.8626 - center_loss_layer_1_acc: 0.7094 - val_loss: 1.2311 - val_dense_2_loss: 0.6618 - val_center_loss_layer_1_loss: 1.1386 - val_dense_2_acc: 0.8394 - val_center_loss_layer_1_acc: 0.5891\n",
      "Epoch 42/100\n",
      "30000/30000 [==============================] - 5s 159us/step - loss: 0.8122 - dense_2_loss: 0.5816 - center_loss_layer_1_loss: 0.4611 - dense_2_acc: 0.8870 - center_loss_layer_1_acc: 0.7314 - val_loss: 1.0690 - val_dense_2_loss: 0.6409 - val_center_loss_layer_1_loss: 0.8562 - val_dense_2_acc: 0.8846 - val_center_loss_layer_1_acc: 0.7601\n",
      "Epoch 43/100\n",
      "30000/30000 [==============================] - 5s 160us/step - loss: 0.7685 - dense_2_loss: 0.5671 - center_loss_layer_1_loss: 0.4028 - dense_2_acc: 0.9081 - center_loss_layer_1_acc: 0.7683 - val_loss: 1.1751 - val_dense_2_loss: 0.6203 - val_center_loss_layer_1_loss: 1.1095 - val_dense_2_acc: 0.8482 - val_center_loss_layer_1_acc: 0.6200\n",
      "Epoch 44/100\n",
      "30000/30000 [==============================] - 5s 160us/step - loss: 0.7852 - dense_2_loss: 0.5550 - center_loss_layer_1_loss: 0.4604 - dense_2_acc: 0.9217 - center_loss_layer_1_acc: 0.7351 - val_loss: 1.2272 - val_dense_2_loss: 0.6289 - val_center_loss_layer_1_loss: 1.1966 - val_dense_2_acc: 0.8678 - val_center_loss_layer_1_acc: 0.5240\n",
      "Epoch 45/100\n",
      "30000/30000 [==============================] - 5s 158us/step - loss: 0.8092 - dense_2_loss: 0.5539 - center_loss_layer_1_loss: 0.5106 - dense_2_acc: 0.9317 - center_loss_layer_1_acc: 0.7157 - val_loss: 1.6211 - val_dense_2_loss: 0.6774 - val_center_loss_layer_1_loss: 1.8873 - val_dense_2_acc: 0.8473 - val_center_loss_layer_1_acc: 0.2601\n",
      "Epoch 46/100\n",
      "30000/30000 [==============================] - 5s 161us/step - loss: 0.7499 - dense_2_loss: 0.5356 - center_loss_layer_1_loss: 0.4287 - dense_2_acc: 0.9531 - center_loss_layer_1_acc: 0.7638 - val_loss: 1.5690 - val_dense_2_loss: 0.6489 - val_center_loss_layer_1_loss: 1.8402 - val_dense_2_acc: 0.9148 - val_center_loss_layer_1_acc: 0.4289\n",
      "Epoch 47/100\n",
      "30000/30000 [==============================] - 5s 159us/step - loss: 0.7637 - dense_2_loss: 0.5287 - center_loss_layer_1_loss: 0.4701 - dense_2_acc: 0.9595 - center_loss_layer_1_acc: 0.7405 - val_loss: 1.1300 - val_dense_2_loss: 0.6014 - val_center_loss_layer_1_loss: 1.0573 - val_dense_2_acc: 0.9269 - val_center_loss_layer_1_acc: 0.6006\n",
      "Epoch 48/100\n",
      "30000/30000 [==============================] - 5s 160us/step - loss: 0.7209 - dense_2_loss: 0.5122 - center_loss_layer_1_loss: 0.4173 - dense_2_acc: 0.9657 - center_loss_layer_1_acc: 0.7610 - val_loss: 1.4633 - val_dense_2_loss: 0.6415 - val_center_loss_layer_1_loss: 1.6436 - val_dense_2_acc: 0.8677 - val_center_loss_layer_1_acc: 0.4059\n",
      "Epoch 49/100\n",
      "30000/30000 [==============================] - 5s 159us/step - loss: 0.7638 - dense_2_loss: 0.5059 - center_loss_layer_1_loss: 0.5157 - dense_2_acc: 0.9715 - center_loss_layer_1_acc: 0.7455 - val_loss: 1.8432 - val_dense_2_loss: 0.6463 - val_center_loss_layer_1_loss: 2.3939 - val_dense_2_acc: 0.8255 - val_center_loss_layer_1_acc: 0.2837\n",
      "Epoch 50/100\n",
      "30000/30000 [==============================] - 5s 160us/step - loss: 0.7895 - dense_2_loss: 0.5105 - center_loss_layer_1_loss: 0.5579 - dense_2_acc: 0.9682 - center_loss_layer_1_acc: 0.6842 - val_loss: 1.3800 - val_dense_2_loss: 0.6018 - val_center_loss_layer_1_loss: 1.5563 - val_dense_2_acc: 0.9266 - val_center_loss_layer_1_acc: 0.4375\n",
      "Epoch 51/100\n",
      "30000/30000 [==============================] - 5s 159us/step - loss: 0.6614 - dense_2_loss: 0.4825 - center_loss_layer_1_loss: 0.3578 - dense_2_acc: 0.9825 - center_loss_layer_1_acc: 0.8080 - val_loss: 1.1322 - val_dense_2_loss: 0.5576 - val_center_loss_layer_1_loss: 1.1493 - val_dense_2_acc: 0.9116 - val_center_loss_layer_1_acc: 0.6030\n",
      "Epoch 52/100\n",
      "30000/30000 [==============================] - 5s 160us/step - loss: 0.7342 - dense_2_loss: 0.4833 - center_loss_layer_1_loss: 0.5018 - dense_2_acc: 0.9775 - center_loss_layer_1_acc: 0.7077 - val_loss: 1.1553 - val_dense_2_loss: 0.5428 - val_center_loss_layer_1_loss: 1.2250 - val_dense_2_acc: 0.9441 - val_center_loss_layer_1_acc: 0.5350\n",
      "Epoch 53/100\n",
      "30000/30000 [==============================] - 5s 159us/step - loss: 0.7179 - dense_2_loss: 0.4727 - center_loss_layer_1_loss: 0.4904 - dense_2_acc: 0.9835 - center_loss_layer_1_acc: 0.7427 - val_loss: 1.0054 - val_dense_2_loss: 0.5431 - val_center_loss_layer_1_loss: 0.9244 - val_dense_2_acc: 0.9256 - val_center_loss_layer_1_acc: 0.7298\n",
      "Epoch 54/100\n",
      "30000/30000 [==============================] - 5s 161us/step - loss: 0.6781 - dense_2_loss: 0.4644 - center_loss_layer_1_loss: 0.4273 - dense_2_acc: 0.9857 - center_loss_layer_1_acc: 0.7884 - val_loss: 1.6337 - val_dense_2_loss: 0.6131 - val_center_loss_layer_1_loss: 2.0412 - val_dense_2_acc: 0.9051 - val_center_loss_layer_1_acc: 0.3442\n",
      "Epoch 55/100\n",
      "30000/30000 [==============================] - 5s 160us/step - loss: 0.7045 - dense_2_loss: 0.4585 - center_loss_layer_1_loss: 0.4920 - dense_2_acc: 0.9864 - center_loss_layer_1_acc: 0.7197 - val_loss: 2.7111 - val_dense_2_loss: 0.6595 - val_center_loss_layer_1_loss: 4.1033 - val_dense_2_acc: 0.8913 - val_center_loss_layer_1_acc: 0.2509\n",
      "Epoch 56/100\n",
      "30000/30000 [==============================] - 5s 160us/step - loss: 0.7240 - dense_2_loss: 0.4558 - center_loss_layer_1_loss: 0.5362 - dense_2_acc: 0.9863 - center_loss_layer_1_acc: 0.7099 - val_loss: 1.3628 - val_dense_2_loss: 0.5613 - val_center_loss_layer_1_loss: 1.6030 - val_dense_2_acc: 0.9389 - val_center_loss_layer_1_acc: 0.4069\n",
      "Epoch 57/100\n",
      "30000/30000 [==============================] - 5s 160us/step - loss: 0.6695 - dense_2_loss: 0.4419 - center_loss_layer_1_loss: 0.4553 - dense_2_acc: 0.9882 - center_loss_layer_1_acc: 0.7366 - val_loss: 1.0675 - val_dense_2_loss: 0.4916 - val_center_loss_layer_1_loss: 1.1517 - val_dense_2_acc: 0.9486 - val_center_loss_layer_1_acc: 0.5935\n",
      "Epoch 58/100\n",
      "30000/30000 [==============================] - 5s 159us/step - loss: 0.6456 - dense_2_loss: 0.4312 - center_loss_layer_1_loss: 0.4288 - dense_2_acc: 0.9918 - center_loss_layer_1_acc: 0.7410 - val_loss: 1.3444 - val_dense_2_loss: 0.5172 - val_center_loss_layer_1_loss: 1.6544 - val_dense_2_acc: 0.9338 - val_center_loss_layer_1_acc: 0.4532\n",
      "Epoch 59/100\n",
      "30000/30000 [==============================] - 5s 160us/step - loss: 0.6571 - dense_2_loss: 0.4227 - center_loss_layer_1_loss: 0.4688 - dense_2_acc: 0.9917 - center_loss_layer_1_acc: 0.7353 - val_loss: 1.1803 - val_dense_2_loss: 0.5187 - val_center_loss_layer_1_loss: 1.3232 - val_dense_2_acc: 0.9499 - val_center_loss_layer_1_acc: 0.5300\n",
      "Epoch 60/100\n",
      "30000/30000 [==============================] - 5s 159us/step - loss: 0.6437 - dense_2_loss: 0.4195 - center_loss_layer_1_loss: 0.4483 - dense_2_acc: 0.9918 - center_loss_layer_1_acc: 0.7408 - val_loss: 1.0701 - val_dense_2_loss: 0.4961 - val_center_loss_layer_1_loss: 1.1480 - val_dense_2_acc: 0.9557 - val_center_loss_layer_1_acc: 0.6307\n",
      "Epoch 61/100\n",
      "30000/30000 [==============================] - 5s 159us/step - loss: 0.8432 - dense_2_loss: 0.4510 - center_loss_layer_1_loss: 0.7843 - dense_2_acc: 0.9740 - center_loss_layer_1_acc: 0.6581 - val_loss: 1.0511 - val_dense_2_loss: 0.4932 - val_center_loss_layer_1_loss: 1.1160 - val_dense_2_acc: 0.9494 - val_center_loss_layer_1_acc: 0.6174\n",
      "Epoch 62/100\n",
      "30000/30000 [==============================] - 5s 161us/step - loss: 0.5914 - dense_2_loss: 0.4047 - center_loss_layer_1_loss: 0.3733 - dense_2_acc: 0.9954 - center_loss_layer_1_acc: 0.7998 - val_loss: 1.0760 - val_dense_2_loss: 0.4741 - val_center_loss_layer_1_loss: 1.2037 - val_dense_2_acc: 0.9580 - val_center_loss_layer_1_acc: 0.6094\n",
      "Epoch 63/100\n",
      "30000/30000 [==============================] - 5s 162us/step - loss: 0.6733 - dense_2_loss: 0.4026 - center_loss_layer_1_loss: 0.5414 - dense_2_acc: 0.9905 - center_loss_layer_1_acc: 0.7092 - val_loss: 1.0172 - val_dense_2_loss: 0.4775 - val_center_loss_layer_1_loss: 1.0794 - val_dense_2_acc: 0.9558 - val_center_loss_layer_1_acc: 0.6691\n",
      "Epoch 64/100\n",
      "30000/30000 [==============================] - 5s 161us/step - loss: 0.7077 - dense_2_loss: 0.4043 - center_loss_layer_1_loss: 0.6068 - dense_2_acc: 0.9935 - center_loss_layer_1_acc: 0.6488 - val_loss: 1.6015 - val_dense_2_loss: 0.4834 - val_center_loss_layer_1_loss: 2.2361 - val_dense_2_acc: 0.9525 - val_center_loss_layer_1_acc: 0.5306\n",
      "Epoch 65/100\n",
      "30000/30000 [==============================] - 5s 160us/step - loss: 0.5699 - dense_2_loss: 0.3829 - center_loss_layer_1_loss: 0.3740 - dense_2_acc: 0.9964 - center_loss_layer_1_acc: 0.7933 - val_loss: 1.0679 - val_dense_2_loss: 0.4783 - val_center_loss_layer_1_loss: 1.1792 - val_dense_2_acc: 0.9482 - val_center_loss_layer_1_acc: 0.6373\n",
      "Epoch 66/100\n",
      "30000/30000 [==============================] - 5s 161us/step - loss: 0.6751 - dense_2_loss: 0.3849 - center_loss_layer_1_loss: 0.5805 - dense_2_acc: 0.9930 - center_loss_layer_1_acc: 0.6869 - val_loss: 1.2439 - val_dense_2_loss: 0.4838 - val_center_loss_layer_1_loss: 1.5202 - val_dense_2_acc: 0.9527 - val_center_loss_layer_1_acc: 0.5186\n",
      "Epoch 67/100\n",
      "30000/30000 [==============================] - 5s 159us/step - loss: 0.6646 - dense_2_loss: 0.3776 - center_loss_layer_1_loss: 0.5741 - dense_2_acc: 0.9921 - center_loss_layer_1_acc: 0.7118 - val_loss: 1.1312 - val_dense_2_loss: 0.4746 - val_center_loss_layer_1_loss: 1.3130 - val_dense_2_acc: 0.9510 - val_center_loss_layer_1_acc: 0.5653\n",
      "Epoch 68/100\n",
      "30000/30000 [==============================] - 5s 159us/step - loss: 0.9803 - dense_2_loss: 0.4474 - center_loss_layer_1_loss: 1.0657 - dense_2_acc: 0.9706 - center_loss_layer_1_acc: 0.6589 - val_loss: 1.6361 - val_dense_2_loss: 0.4793 - val_center_loss_layer_1_loss: 2.3136 - val_dense_2_acc: 0.9408 - val_center_loss_layer_1_acc: 0.4529\n",
      "Epoch 69/100\n",
      "30000/30000 [==============================] - 5s 160us/step - loss: 0.5806 - dense_2_loss: 0.4012 - center_loss_layer_1_loss: 0.3588 - dense_2_acc: 0.9958 - center_loss_layer_1_acc: 0.8002 - val_loss: 0.9202 - val_dense_2_loss: 0.4626 - val_center_loss_layer_1_loss: 0.9152 - val_dense_2_acc: 0.9637 - val_center_loss_layer_1_acc: 0.7149\n",
      "Epoch 70/100\n",
      "30000/30000 [==============================] - 5s 162us/step - loss: 0.5467 - dense_2_loss: 0.3705 - center_loss_layer_1_loss: 0.3524 - dense_2_acc: 0.9974 - center_loss_layer_1_acc: 0.8024 - val_loss: 1.0752 - val_dense_2_loss: 0.4666 - val_center_loss_layer_1_loss: 1.2172 - val_dense_2_acc: 0.9537 - val_center_loss_layer_1_acc: 0.5425\n",
      "Epoch 71/100\n",
      "30000/30000 [==============================] - 5s 161us/step - loss: 0.5510 - dense_2_loss: 0.3569 - center_loss_layer_1_loss: 0.3882 - dense_2_acc: 0.9983 - center_loss_layer_1_acc: 0.7641 - val_loss: 1.2115 - val_dense_2_loss: 0.4650 - val_center_loss_layer_1_loss: 1.4931 - val_dense_2_acc: 0.9533 - val_center_loss_layer_1_acc: 0.4893\n",
      "Epoch 72/100\n",
      "30000/30000 [==============================] - 5s 161us/step - loss: 0.5647 - dense_2_loss: 0.3490 - center_loss_layer_1_loss: 0.4314 - dense_2_acc: 0.9977 - center_loss_layer_1_acc: 0.7504 - val_loss: 1.3484 - val_dense_2_loss: 0.4591 - val_center_loss_layer_1_loss: 1.7786 - val_dense_2_acc: 0.9466 - val_center_loss_layer_1_acc: 0.3229\n",
      "Epoch 73/100\n",
      "30000/30000 [==============================] - 5s 159us/step - loss: 0.5937 - dense_2_loss: 0.3455 - center_loss_layer_1_loss: 0.4964 - dense_2_acc: 0.9965 - center_loss_layer_1_acc: 0.6968 - val_loss: 0.9860 - val_dense_2_loss: 0.4339 - val_center_loss_layer_1_loss: 1.1042 - val_dense_2_acc: 0.9562 - val_center_loss_layer_1_acc: 0.6770\n",
      "Epoch 74/100\n",
      "30000/30000 [==============================] - 5s 159us/step - loss: 0.6110 - dense_2_loss: 0.3450 - center_loss_layer_1_loss: 0.5319 - dense_2_acc: 0.9950 - center_loss_layer_1_acc: 0.7236 - val_loss: 1.1578 - val_dense_2_loss: 0.4487 - val_center_loss_layer_1_loss: 1.4183 - val_dense_2_acc: 0.9527 - val_center_loss_layer_1_acc: 0.5218\n",
      "Epoch 75/100\n",
      "30000/30000 [==============================] - 5s 159us/step - loss: 0.5956 - dense_2_loss: 0.3339 - center_loss_layer_1_loss: 0.5234 - dense_2_acc: 0.9964 - center_loss_layer_1_acc: 0.6993 - val_loss: 1.1643 - val_dense_2_loss: 0.4196 - val_center_loss_layer_1_loss: 1.4893 - val_dense_2_acc: 0.9556 - val_center_loss_layer_1_acc: 0.5243\n",
      "Epoch 76/100\n",
      "30000/30000 [==============================] - 5s 161us/step - loss: 0.5426 - dense_2_loss: 0.3232 - center_loss_layer_1_loss: 0.4389 - dense_2_acc: 0.9978 - center_loss_layer_1_acc: 0.7394 - val_loss: 1.0859 - val_dense_2_loss: 0.4145 - val_center_loss_layer_1_loss: 1.3427 - val_dense_2_acc: 0.9619 - val_center_loss_layer_1_acc: 0.5860\n",
      "Epoch 77/100\n",
      "30000/30000 [==============================] - 5s 164us/step - loss: 0.5812 - dense_2_loss: 0.3197 - center_loss_layer_1_loss: 0.5230 - dense_2_acc: 0.9976 - center_loss_layer_1_acc: 0.6848 - val_loss: 1.3034 - val_dense_2_loss: 0.4383 - val_center_loss_layer_1_loss: 1.7302 - val_dense_2_acc: 0.9462 - val_center_loss_layer_1_acc: 0.3623\n",
      "Epoch 78/100\n",
      "30000/30000 [==============================] - 5s 163us/step - loss: 0.6025 - dense_2_loss: 0.3184 - center_loss_layer_1_loss: 0.5682 - dense_2_acc: 0.9926 - center_loss_layer_1_acc: 0.6977 - val_loss: 1.9520 - val_dense_2_loss: 0.4838 - val_center_loss_layer_1_loss: 2.9364 - val_dense_2_acc: 0.8967 - val_center_loss_layer_1_acc: 0.3509\n",
      "Epoch 79/100\n",
      "30000/30000 [==============================] - 5s 161us/step - loss: 0.6418 - dense_2_loss: 0.3244 - center_loss_layer_1_loss: 0.6349 - dense_2_acc: 0.9957 - center_loss_layer_1_acc: 0.6594 - val_loss: 1.1709 - val_dense_2_loss: 0.4101 - val_center_loss_layer_1_loss: 1.5216 - val_dense_2_acc: 0.9549 - val_center_loss_layer_1_acc: 0.5639\n",
      "Epoch 80/100\n",
      "30000/30000 [==============================] - 5s 161us/step - loss: 0.5711 - dense_2_loss: 0.3096 - center_loss_layer_1_loss: 0.5229 - dense_2_acc: 0.9965 - center_loss_layer_1_acc: 0.7331 - val_loss: 1.0377 - val_dense_2_loss: 0.3915 - val_center_loss_layer_1_loss: 1.2924 - val_dense_2_acc: 0.9580 - val_center_loss_layer_1_acc: 0.5777\n",
      "Epoch 81/100\n",
      "30000/30000 [==============================] - 5s 163us/step - loss: 0.6162 - dense_2_loss: 0.3057 - center_loss_layer_1_loss: 0.6209 - dense_2_acc: 0.9978 - center_loss_layer_1_acc: 0.6508 - val_loss: 1.0640 - val_dense_2_loss: 0.4031 - val_center_loss_layer_1_loss: 1.3218 - val_dense_2_acc: 0.9556 - val_center_loss_layer_1_acc: 0.5970\n",
      "Epoch 82/100\n",
      "30000/30000 [==============================] - 5s 160us/step - loss: 0.5927 - dense_2_loss: 0.3017 - center_loss_layer_1_loss: 0.5819 - dense_2_acc: 0.9955 - center_loss_layer_1_acc: 0.6927 - val_loss: 1.2017 - val_dense_2_loss: 0.3994 - val_center_loss_layer_1_loss: 1.6045 - val_dense_2_acc: 0.9623 - val_center_loss_layer_1_acc: 0.5230\n",
      "Epoch 83/100\n",
      "30000/30000 [==============================] - 5s 160us/step - loss: 0.5469 - dense_2_loss: 0.2926 - center_loss_layer_1_loss: 0.5087 - dense_2_acc: 0.9976 - center_loss_layer_1_acc: 0.7067 - val_loss: 1.0675 - val_dense_2_loss: 0.3945 - val_center_loss_layer_1_loss: 1.3460 - val_dense_2_acc: 0.9507 - val_center_loss_layer_1_acc: 0.6193\n",
      "Epoch 84/100\n",
      "30000/30000 [==============================] - 5s 159us/step - loss: 0.6437 - dense_2_loss: 0.2944 - center_loss_layer_1_loss: 0.6986 - dense_2_acc: 0.9959 - center_loss_layer_1_acc: 0.6101 - val_loss: 1.3942 - val_dense_2_loss: 0.4027 - val_center_loss_layer_1_loss: 1.9830 - val_dense_2_acc: 0.9569 - val_center_loss_layer_1_acc: 0.4108\n",
      "Epoch 85/100\n",
      "30000/30000 [==============================] - 5s 161us/step - loss: 0.5895 - dense_2_loss: 0.2883 - center_loss_layer_1_loss: 0.6023 - dense_2_acc: 0.9970 - center_loss_layer_1_acc: 0.6671 - val_loss: 1.4516 - val_dense_2_loss: 0.4047 - val_center_loss_layer_1_loss: 2.0938 - val_dense_2_acc: 0.9518 - val_center_loss_layer_1_acc: 0.3178\n",
      "Epoch 86/100\n",
      "30000/30000 [==============================] - 5s 162us/step - loss: 0.5466 - dense_2_loss: 0.2780 - center_loss_layer_1_loss: 0.5372 - dense_2_acc: 0.9980 - center_loss_layer_1_acc: 0.7021 - val_loss: 0.9931 - val_dense_2_loss: 0.3701 - val_center_loss_layer_1_loss: 1.2461 - val_dense_2_acc: 0.9630 - val_center_loss_layer_1_acc: 0.6754\n",
      "Epoch 87/100\n",
      "30000/30000 [==============================] - 5s 163us/step - loss: 0.5206 - dense_2_loss: 0.2633 - center_loss_layer_1_loss: 0.5145 - dense_2_acc: 0.9988 - center_loss_layer_1_acc: 0.7079 - val_loss: 1.4329 - val_dense_2_loss: 0.3699 - val_center_loss_layer_1_loss: 2.1260 - val_dense_2_acc: 0.9500 - val_center_loss_layer_1_acc: 0.4784\n",
      "Epoch 88/100\n",
      "30000/30000 [==============================] - 5s 160us/step - loss: 0.5575 - dense_2_loss: 0.2611 - center_loss_layer_1_loss: 0.5927 - dense_2_acc: 0.9977 - center_loss_layer_1_acc: 0.6793 - val_loss: 1.3056 - val_dense_2_loss: 0.3664 - val_center_loss_layer_1_loss: 1.8783 - val_dense_2_acc: 0.9607 - val_center_loss_layer_1_acc: 0.4720\n",
      "Epoch 89/100\n",
      "30000/30000 [==============================] - 5s 163us/step - loss: 0.5554 - dense_2_loss: 0.2586 - center_loss_layer_1_loss: 0.5935 - dense_2_acc: 0.9980 - center_loss_layer_1_acc: 0.6441 - val_loss: 1.4146 - val_dense_2_loss: 0.4038 - val_center_loss_layer_1_loss: 2.0217 - val_dense_2_acc: 0.9160 - val_center_loss_layer_1_acc: 0.3472\n"
     ]
    },
    {
     "data": {
      "text/plain": [
       "<keras.callbacks.History at 0x1a6173f81d0>"
      ]
     },
     "execution_count": 5,
     "metadata": {},
     "output_type": "execute_result"
    }
   ],
   "source": [
    "dummy_matrix1=np.zeros((x_train.shape[0],1))\n",
    "dummy_matrix2=np.zeros((x_test.shape[0],1))\n",
    "\n",
    "model_center_loss.fit(x=[x_train,y_train_one_hot],y=[y_train_one_hot,dummy_matrix1],\n",
    "                     batch_size=512,epochs=100,verbose=1,validation_data=([x_test,y_test_one_hot],[y_test_one_hot,dummy_matrix2]),\n",
    "                     callbacks=[EarlyStopping(monitor=\"val_loss\",patience=20)])"
   ]
  },
  {
   "cell_type": "code",
   "execution_count": 6,
   "metadata": {
    "collapsed": false
   },
   "outputs": [
    {
     "name": "stdout",
     "output_type": "stream",
     "text": [
      "(10000, 2)\n",
      "(10, 2)\n"
     ]
    }
   ],
   "source": [
    "func=K.function([model.input],[model.get_layer('out1').output])\n",
    "test_features= func([x_test])[0]\n",
    "print(test_features.shape)\n",
    "\n",
    "test_centers=np.dot(np.transpose(y_test_one_hot),test_features)\n",
    "test_centers_count=np.sum(np.transpose(y_test_one_hot),axis=1,keepdims=True)\n",
    "test_centers/=test_centers_count\n",
    "print(test_centers.shape)"
   ]
  },
  {
   "cell_type": "code",
   "execution_count": 7,
   "metadata": {
    "collapsed": false
   },
   "outputs": [
    {
     "data": {
      "image/png": "[encoded data removed]",
      "text/plain": [
       "<matplotlib.figure.Figure at 0x1a8963f0a58>"
      ]
     },
     "metadata": {},
     "output_type": "display_data"
    }
   ],
   "source": [
    "from matplotlib import pyplot as plt\n",
    "%matplotlib inline\n",
    "plt.scatter(test_features[:,0],test_features[:,1],c=y_test,edgecolor=\"none\",s=5)\n",
    "plt.scatter(test_centers[:,0],test_centers[:,1],c=\"black\",marker=\"*\",edgecolor=\"none\",s=50)\n",
    "plt.show()"
   ]
  },
  {
   "cell_type": "code",
   "execution_count": null,
   "metadata": {
    "collapsed": true
   },
   "outputs": [],
   "source": []
  }
 ],
 "metadata": {
  "anaconda-cloud": {},
  "kernelspec": {
   "display_name": "Python [conda root]",
   "language": "python",
   "name": "conda-root-py"
  },
  "language_info": {
   "codemirror_mode": {
    "name": "ipython",
    "version": 3
   },
   "file_extension": ".py",
   "mimetype": "text/x-python",
   "name": "python",
   "nbconvert_exporter": "python",
   "pygments_lexer": "ipython3",
   "version": "3.5.2"
  }
 },
 "nbformat": 4,
 "nbformat_minor": 1
}
